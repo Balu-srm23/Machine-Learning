{
  "nbformat": 4,
  "nbformat_minor": 0,
  "metadata": {
    "colab": {
      "provenance": [],
      "authorship_tag": "ABX9TyPwGALgDY6K35LkVZzFfGRv",
      "include_colab_link": true
    },
    "kernelspec": {
      "name": "python3",
      "display_name": "Python 3"
    },
    "language_info": {
      "name": "python"
    }
  },
  "cells": [
    {
      "cell_type": "markdown",
      "metadata": {
        "id": "view-in-github",
        "colab_type": "text"
      },
      "source": [
        "<a href=\"https://colab.research.google.com/github/Balu-srm23/Machine-Learning/blob/main/KNN_2_A23110011409.ipynb\" target=\"_parent\"><img src=\"https://colab.research.google.com/assets/colab-badge.svg\" alt=\"Open In Colab\"/></a>"
      ]
    },
    {
      "cell_type": "code",
      "execution_count": 1,
      "metadata": {
        "colab": {
          "base_uri": "https://localhost:8080/"
        },
        "id": "ENgNKg_r6SwG",
        "outputId": "323a9467-d283-4316-cfec-91b670ded825"
      },
      "outputs": [
        {
          "output_type": "stream",
          "name": "stdout",
          "text": [
            "Downloading...\n",
            "From: https://drive.google.com/uc?id=1vDIXh1yJxLpmgdh3gZGM6WX0u3GCPuIS\n",
            "To: /content/knn_imputation.csv\n",
            "\r  0% 0.00/12.9k [00:00<?, ?B/s]\r100% 12.9k/12.9k [00:00<00:00, 36.0MB/s]\n"
          ]
        }
      ],
      "source": [
        "!gdown 1vDIXh1yJxLpmgdh3gZGM6WX0u3GCPuIS"
      ]
    },
    {
      "cell_type": "code",
      "source": [
        "import pandas as pd\n",
        "from sklearn.impute import KNNImputer\n",
        "from sklearn.preprocessing import StandardScaler\n",
        "from sklearn.model_selection import train_test_split\n",
        "from sklearn.neighbors import KNeighborsClassifier\n",
        "from sklearn.metrics import accuracy_score"
      ],
      "metadata": {
        "id": "Qtd4jYe46m-x"
      },
      "execution_count": 18,
      "outputs": []
    },
    {
      "cell_type": "code",
      "source": [
        "\n",
        "df_impute = pd.read_csv(\"/content/knn_imputation.csv\")\n",
        "df_impute.info()\n",
        "df_impute.describe()"
      ],
      "metadata": {
        "colab": {
          "base_uri": "https://localhost:8080/",
          "height": 598
        },
        "id": "Tt-bh6XG7U1a",
        "outputId": "ad02035e-bd64-4d96-ea59-018f7f9bfaa4"
      },
      "execution_count": 11,
      "outputs": [
        {
          "output_type": "stream",
          "name": "stdout",
          "text": [
            "<class 'pandas.core.frame.DataFrame'>\n",
            "RangeIndex: 267 entries, 0 to 266\n",
            "Data columns (total 8 columns):\n",
            " #   Column            Non-Null Count  Dtype  \n",
            "---  ------            --------------  -----  \n",
            " 0   Unnamed: 0        267 non-null    int64  \n",
            " 1   Region            259 non-null    float64\n",
            " 2   Fresh             254 non-null    float64\n",
            " 3   Milk              252 non-null    float64\n",
            " 4   Grocery           258 non-null    float64\n",
            " 5   Frozen            259 non-null    float64\n",
            " 6   Detergents_Paper  257 non-null    float64\n",
            " 7   Delicassen        256 non-null    float64\n",
            "dtypes: float64(7), int64(1)\n",
            "memory usage: 16.8 KB\n"
          ]
        },
        {
          "output_type": "execute_result",
          "data": {
            "text/plain": [
              "       Unnamed: 0      Region          Fresh          Milk       Grocery  \\\n",
              "count  267.000000  259.000000     254.000000    252.000000    258.000000   \n",
              "mean   133.000000    2.590734   16088.551181   7990.765873  11122.655039   \n",
              "std     77.220464    0.738262   14680.293499   8907.966732  11185.416808   \n",
              "min      0.000000    1.000000      18.000000    134.000000      3.000000   \n",
              "25%     66.500000    2.000000    4616.250000   2399.500000   3333.500000   \n",
              "50%    133.000000    3.000000   14357.000000   5842.000000   8896.500000   \n",
              "75%    199.500000    3.000000   21937.250000   9960.750000  14612.250000   \n",
              "max    266.000000    3.000000  112151.000000  73498.000000  92780.000000   \n",
              "\n",
              "             Frozen  Detergents_Paper    Delicassen  \n",
              "count    259.000000        257.000000    256.000000  \n",
              "mean    3361.938224       4242.322957   1959.285156  \n",
              "std     5686.207745       5759.558698   3549.320987  \n",
              "min       25.000000          3.000000      3.000000  \n",
              "25%      799.500000        412.000000    572.750000  \n",
              "50%     1691.000000       2328.000000   1280.000000  \n",
              "75%     3816.500000       6236.000000   2341.250000  \n",
              "max    60869.000000      40827.000000  47943.000000  "
            ],
            "text/html": [
              "\n",
              "  <div id=\"df-cb52a917-7eec-44ee-a898-d84dfa792811\" class=\"colab-df-container\">\n",
              "    <div>\n",
              "<style scoped>\n",
              "    .dataframe tbody tr th:only-of-type {\n",
              "        vertical-align: middle;\n",
              "    }\n",
              "\n",
              "    .dataframe tbody tr th {\n",
              "        vertical-align: top;\n",
              "    }\n",
              "\n",
              "    .dataframe thead th {\n",
              "        text-align: right;\n",
              "    }\n",
              "</style>\n",
              "<table border=\"1\" class=\"dataframe\">\n",
              "  <thead>\n",
              "    <tr style=\"text-align: right;\">\n",
              "      <th></th>\n",
              "      <th>Unnamed: 0</th>\n",
              "      <th>Region</th>\n",
              "      <th>Fresh</th>\n",
              "      <th>Milk</th>\n",
              "      <th>Grocery</th>\n",
              "      <th>Frozen</th>\n",
              "      <th>Detergents_Paper</th>\n",
              "      <th>Delicassen</th>\n",
              "    </tr>\n",
              "  </thead>\n",
              "  <tbody>\n",
              "    <tr>\n",
              "      <th>count</th>\n",
              "      <td>267.000000</td>\n",
              "      <td>259.000000</td>\n",
              "      <td>254.000000</td>\n",
              "      <td>252.000000</td>\n",
              "      <td>258.000000</td>\n",
              "      <td>259.000000</td>\n",
              "      <td>257.000000</td>\n",
              "      <td>256.000000</td>\n",
              "    </tr>\n",
              "    <tr>\n",
              "      <th>mean</th>\n",
              "      <td>133.000000</td>\n",
              "      <td>2.590734</td>\n",
              "      <td>16088.551181</td>\n",
              "      <td>7990.765873</td>\n",
              "      <td>11122.655039</td>\n",
              "      <td>3361.938224</td>\n",
              "      <td>4242.322957</td>\n",
              "      <td>1959.285156</td>\n",
              "    </tr>\n",
              "    <tr>\n",
              "      <th>std</th>\n",
              "      <td>77.220464</td>\n",
              "      <td>0.738262</td>\n",
              "      <td>14680.293499</td>\n",
              "      <td>8907.966732</td>\n",
              "      <td>11185.416808</td>\n",
              "      <td>5686.207745</td>\n",
              "      <td>5759.558698</td>\n",
              "      <td>3549.320987</td>\n",
              "    </tr>\n",
              "    <tr>\n",
              "      <th>min</th>\n",
              "      <td>0.000000</td>\n",
              "      <td>1.000000</td>\n",
              "      <td>18.000000</td>\n",
              "      <td>134.000000</td>\n",
              "      <td>3.000000</td>\n",
              "      <td>25.000000</td>\n",
              "      <td>3.000000</td>\n",
              "      <td>3.000000</td>\n",
              "    </tr>\n",
              "    <tr>\n",
              "      <th>25%</th>\n",
              "      <td>66.500000</td>\n",
              "      <td>2.000000</td>\n",
              "      <td>4616.250000</td>\n",
              "      <td>2399.500000</td>\n",
              "      <td>3333.500000</td>\n",
              "      <td>799.500000</td>\n",
              "      <td>412.000000</td>\n",
              "      <td>572.750000</td>\n",
              "    </tr>\n",
              "    <tr>\n",
              "      <th>50%</th>\n",
              "      <td>133.000000</td>\n",
              "      <td>3.000000</td>\n",
              "      <td>14357.000000</td>\n",
              "      <td>5842.000000</td>\n",
              "      <td>8896.500000</td>\n",
              "      <td>1691.000000</td>\n",
              "      <td>2328.000000</td>\n",
              "      <td>1280.000000</td>\n",
              "    </tr>\n",
              "    <tr>\n",
              "      <th>75%</th>\n",
              "      <td>199.500000</td>\n",
              "      <td>3.000000</td>\n",
              "      <td>21937.250000</td>\n",
              "      <td>9960.750000</td>\n",
              "      <td>14612.250000</td>\n",
              "      <td>3816.500000</td>\n",
              "      <td>6236.000000</td>\n",
              "      <td>2341.250000</td>\n",
              "    </tr>\n",
              "    <tr>\n",
              "      <th>max</th>\n",
              "      <td>266.000000</td>\n",
              "      <td>3.000000</td>\n",
              "      <td>112151.000000</td>\n",
              "      <td>73498.000000</td>\n",
              "      <td>92780.000000</td>\n",
              "      <td>60869.000000</td>\n",
              "      <td>40827.000000</td>\n",
              "      <td>47943.000000</td>\n",
              "    </tr>\n",
              "  </tbody>\n",
              "</table>\n",
              "</div>\n",
              "    <div class=\"colab-df-buttons\">\n",
              "\n",
              "  <div class=\"colab-df-container\">\n",
              "    <button class=\"colab-df-convert\" onclick=\"convertToInteractive('df-cb52a917-7eec-44ee-a898-d84dfa792811')\"\n",
              "            title=\"Convert this dataframe to an interactive table.\"\n",
              "            style=\"display:none;\">\n",
              "\n",
              "  <svg xmlns=\"http://www.w3.org/2000/svg\" height=\"24px\" viewBox=\"0 -960 960 960\">\n",
              "    <path d=\"M120-120v-720h720v720H120Zm60-500h600v-160H180v160Zm220 220h160v-160H400v160Zm0 220h160v-160H400v160ZM180-400h160v-160H180v160Zm440 0h160v-160H620v160ZM180-180h160v-160H180v160Zm440 0h160v-160H620v160Z\"/>\n",
              "  </svg>\n",
              "    </button>\n",
              "\n",
              "  <style>\n",
              "    .colab-df-container {\n",
              "      display:flex;\n",
              "      gap: 12px;\n",
              "    }\n",
              "\n",
              "    .colab-df-convert {\n",
              "      background-color: #E8F0FE;\n",
              "      border: none;\n",
              "      border-radius: 50%;\n",
              "      cursor: pointer;\n",
              "      display: none;\n",
              "      fill: #1967D2;\n",
              "      height: 32px;\n",
              "      padding: 0 0 0 0;\n",
              "      width: 32px;\n",
              "    }\n",
              "\n",
              "    .colab-df-convert:hover {\n",
              "      background-color: #E2EBFA;\n",
              "      box-shadow: 0px 1px 2px rgba(60, 64, 67, 0.3), 0px 1px 3px 1px rgba(60, 64, 67, 0.15);\n",
              "      fill: #174EA6;\n",
              "    }\n",
              "\n",
              "    .colab-df-buttons div {\n",
              "      margin-bottom: 4px;\n",
              "    }\n",
              "\n",
              "    [theme=dark] .colab-df-convert {\n",
              "      background-color: #3B4455;\n",
              "      fill: #D2E3FC;\n",
              "    }\n",
              "\n",
              "    [theme=dark] .colab-df-convert:hover {\n",
              "      background-color: #434B5C;\n",
              "      box-shadow: 0px 1px 3px 1px rgba(0, 0, 0, 0.15);\n",
              "      filter: drop-shadow(0px 1px 2px rgba(0, 0, 0, 0.3));\n",
              "      fill: #FFFFFF;\n",
              "    }\n",
              "  </style>\n",
              "\n",
              "    <script>\n",
              "      const buttonEl =\n",
              "        document.querySelector('#df-cb52a917-7eec-44ee-a898-d84dfa792811 button.colab-df-convert');\n",
              "      buttonEl.style.display =\n",
              "        google.colab.kernel.accessAllowed ? 'block' : 'none';\n",
              "\n",
              "      async function convertToInteractive(key) {\n",
              "        const element = document.querySelector('#df-cb52a917-7eec-44ee-a898-d84dfa792811');\n",
              "        const dataTable =\n",
              "          await google.colab.kernel.invokeFunction('convertToInteractive',\n",
              "                                                    [key], {});\n",
              "        if (!dataTable) return;\n",
              "\n",
              "        const docLinkHtml = 'Like what you see? Visit the ' +\n",
              "          '<a target=\"_blank\" href=https://colab.research.google.com/notebooks/data_table.ipynb>data table notebook</a>'\n",
              "          + ' to learn more about interactive tables.';\n",
              "        element.innerHTML = '';\n",
              "        dataTable['output_type'] = 'display_data';\n",
              "        await google.colab.output.renderOutput(dataTable, element);\n",
              "        const docLink = document.createElement('div');\n",
              "        docLink.innerHTML = docLinkHtml;\n",
              "        element.appendChild(docLink);\n",
              "      }\n",
              "    </script>\n",
              "  </div>\n",
              "\n",
              "\n",
              "    <div id=\"df-a04e8a25-b668-4908-98de-35a1c3a4063f\">\n",
              "      <button class=\"colab-df-quickchart\" onclick=\"quickchart('df-a04e8a25-b668-4908-98de-35a1c3a4063f')\"\n",
              "                title=\"Suggest charts\"\n",
              "                style=\"display:none;\">\n",
              "\n",
              "<svg xmlns=\"http://www.w3.org/2000/svg\" height=\"24px\"viewBox=\"0 0 24 24\"\n",
              "     width=\"24px\">\n",
              "    <g>\n",
              "        <path d=\"M19 3H5c-1.1 0-2 .9-2 2v14c0 1.1.9 2 2 2h14c1.1 0 2-.9 2-2V5c0-1.1-.9-2-2-2zM9 17H7v-7h2v7zm4 0h-2V7h2v10zm4 0h-2v-4h2v4z\"/>\n",
              "    </g>\n",
              "</svg>\n",
              "      </button>\n",
              "\n",
              "<style>\n",
              "  .colab-df-quickchart {\n",
              "      --bg-color: #E8F0FE;\n",
              "      --fill-color: #1967D2;\n",
              "      --hover-bg-color: #E2EBFA;\n",
              "      --hover-fill-color: #174EA6;\n",
              "      --disabled-fill-color: #AAA;\n",
              "      --disabled-bg-color: #DDD;\n",
              "  }\n",
              "\n",
              "  [theme=dark] .colab-df-quickchart {\n",
              "      --bg-color: #3B4455;\n",
              "      --fill-color: #D2E3FC;\n",
              "      --hover-bg-color: #434B5C;\n",
              "      --hover-fill-color: #FFFFFF;\n",
              "      --disabled-bg-color: #3B4455;\n",
              "      --disabled-fill-color: #666;\n",
              "  }\n",
              "\n",
              "  .colab-df-quickchart {\n",
              "    background-color: var(--bg-color);\n",
              "    border: none;\n",
              "    border-radius: 50%;\n",
              "    cursor: pointer;\n",
              "    display: none;\n",
              "    fill: var(--fill-color);\n",
              "    height: 32px;\n",
              "    padding: 0;\n",
              "    width: 32px;\n",
              "  }\n",
              "\n",
              "  .colab-df-quickchart:hover {\n",
              "    background-color: var(--hover-bg-color);\n",
              "    box-shadow: 0 1px 2px rgba(60, 64, 67, 0.3), 0 1px 3px 1px rgba(60, 64, 67, 0.15);\n",
              "    fill: var(--button-hover-fill-color);\n",
              "  }\n",
              "\n",
              "  .colab-df-quickchart-complete:disabled,\n",
              "  .colab-df-quickchart-complete:disabled:hover {\n",
              "    background-color: var(--disabled-bg-color);\n",
              "    fill: var(--disabled-fill-color);\n",
              "    box-shadow: none;\n",
              "  }\n",
              "\n",
              "  .colab-df-spinner {\n",
              "    border: 2px solid var(--fill-color);\n",
              "    border-color: transparent;\n",
              "    border-bottom-color: var(--fill-color);\n",
              "    animation:\n",
              "      spin 1s steps(1) infinite;\n",
              "  }\n",
              "\n",
              "  @keyframes spin {\n",
              "    0% {\n",
              "      border-color: transparent;\n",
              "      border-bottom-color: var(--fill-color);\n",
              "      border-left-color: var(--fill-color);\n",
              "    }\n",
              "    20% {\n",
              "      border-color: transparent;\n",
              "      border-left-color: var(--fill-color);\n",
              "      border-top-color: var(--fill-color);\n",
              "    }\n",
              "    30% {\n",
              "      border-color: transparent;\n",
              "      border-left-color: var(--fill-color);\n",
              "      border-top-color: var(--fill-color);\n",
              "      border-right-color: var(--fill-color);\n",
              "    }\n",
              "    40% {\n",
              "      border-color: transparent;\n",
              "      border-right-color: var(--fill-color);\n",
              "      border-top-color: var(--fill-color);\n",
              "    }\n",
              "    60% {\n",
              "      border-color: transparent;\n",
              "      border-right-color: var(--fill-color);\n",
              "    }\n",
              "    80% {\n",
              "      border-color: transparent;\n",
              "      border-right-color: var(--fill-color);\n",
              "      border-bottom-color: var(--fill-color);\n",
              "    }\n",
              "    90% {\n",
              "      border-color: transparent;\n",
              "      border-bottom-color: var(--fill-color);\n",
              "    }\n",
              "  }\n",
              "</style>\n",
              "\n",
              "      <script>\n",
              "        async function quickchart(key) {\n",
              "          const quickchartButtonEl =\n",
              "            document.querySelector('#' + key + ' button');\n",
              "          quickchartButtonEl.disabled = true;  // To prevent multiple clicks.\n",
              "          quickchartButtonEl.classList.add('colab-df-spinner');\n",
              "          try {\n",
              "            const charts = await google.colab.kernel.invokeFunction(\n",
              "                'suggestCharts', [key], {});\n",
              "          } catch (error) {\n",
              "            console.error('Error during call to suggestCharts:', error);\n",
              "          }\n",
              "          quickchartButtonEl.classList.remove('colab-df-spinner');\n",
              "          quickchartButtonEl.classList.add('colab-df-quickchart-complete');\n",
              "        }\n",
              "        (() => {\n",
              "          let quickchartButtonEl =\n",
              "            document.querySelector('#df-a04e8a25-b668-4908-98de-35a1c3a4063f button');\n",
              "          quickchartButtonEl.style.display =\n",
              "            google.colab.kernel.accessAllowed ? 'block' : 'none';\n",
              "        })();\n",
              "      </script>\n",
              "    </div>\n",
              "\n",
              "    </div>\n",
              "  </div>\n"
            ],
            "application/vnd.google.colaboratory.intrinsic+json": {
              "type": "dataframe",
              "summary": "{\n  \"name\": \"df_impute\",\n  \"rows\": 8,\n  \"fields\": [\n    {\n      \"column\": \"Unnamed: 0\",\n      \"properties\": {\n        \"dtype\": \"number\",\n        \"std\": 96.009710494069,\n        \"min\": 0.0,\n        \"max\": 267.0,\n        \"num_unique_values\": 7,\n        \"samples\": [\n          267.0,\n          133.0,\n          199.5\n        ],\n        \"semantic_type\": \"\",\n        \"description\": \"\"\n      }\n    },\n    {\n      \"column\": \"Region\",\n      \"properties\": {\n        \"dtype\": \"number\",\n        \"std\": 90.8005720839737,\n        \"min\": 0.7382615254188715,\n        \"max\": 259.0,\n        \"num_unique_values\": 6,\n        \"samples\": [\n          259.0,\n          2.5907335907335907,\n          3.0\n        ],\n        \"semantic_type\": \"\",\n        \"description\": \"\"\n      }\n    },\n    {\n      \"column\": \"Fresh\",\n      \"properties\": {\n        \"dtype\": \"number\",\n        \"std\": 36886.372093153666,\n        \"min\": 18.0,\n        \"max\": 112151.0,\n        \"num_unique_values\": 8,\n        \"samples\": [\n          16088.551181102363,\n          14357.0,\n          254.0\n        ],\n        \"semantic_type\": \"\",\n        \"description\": \"\"\n      }\n    },\n    {\n      \"column\": \"Milk\",\n      \"properties\": {\n        \"dtype\": \"number\",\n        \"std\": 24493.81547355698,\n        \"min\": 134.0,\n        \"max\": 73498.0,\n        \"num_unique_values\": 8,\n        \"samples\": [\n          7990.765873015873,\n          5842.0,\n          252.0\n        ],\n        \"semantic_type\": \"\",\n        \"description\": \"\"\n      }\n    },\n    {\n      \"column\": \"Grocery\",\n      \"properties\": {\n        \"dtype\": \"number\",\n        \"std\": 30783.815926035968,\n        \"min\": 3.0,\n        \"max\": 92780.0,\n        \"num_unique_values\": 8,\n        \"samples\": [\n          11122.65503875969,\n          8896.5,\n          258.0\n        ],\n        \"semantic_type\": \"\",\n        \"description\": \"\"\n      }\n    },\n    {\n      \"column\": \"Frozen\",\n      \"properties\": {\n        \"dtype\": \"number\",\n        \"std\": 20822.775160480964,\n        \"min\": 25.0,\n        \"max\": 60869.0,\n        \"num_unique_values\": 8,\n        \"samples\": [\n          3361.938223938224,\n          1691.0,\n          259.0\n        ],\n        \"semantic_type\": \"\",\n        \"description\": \"\"\n      }\n    },\n    {\n      \"column\": \"Detergents_Paper\",\n      \"properties\": {\n        \"dtype\": \"number\",\n        \"std\": 13688.280077894564,\n        \"min\": 3.0,\n        \"max\": 40827.0,\n        \"num_unique_values\": 8,\n        \"samples\": [\n          4242.322957198444,\n          2328.0,\n          257.0\n        ],\n        \"semantic_type\": \"\",\n        \"description\": \"\"\n      }\n    },\n    {\n      \"column\": \"Delicassen\",\n      \"properties\": {\n        \"dtype\": \"number\",\n        \"std\": 16489.664465715112,\n        \"min\": 3.0,\n        \"max\": 47943.0,\n        \"num_unique_values\": 8,\n        \"samples\": [\n          1959.28515625,\n          1280.0,\n          256.0\n        ],\n        \"semantic_type\": \"\",\n        \"description\": \"\"\n      }\n    }\n  ]\n}"
            }
          },
          "metadata": {},
          "execution_count": 11
        }
      ]
    },
    {
      "cell_type": "code",
      "source": [
        "if 'Unnamed: 0' in df_impute.columns:\n",
        "    df_impute = df_impute.drop(columns=['Unnamed: 0'])\n",
        "\n",
        "print(\"Missing values before imputation:\\n\", df_impute.isnull().sum())\n"
      ],
      "metadata": {
        "colab": {
          "base_uri": "https://localhost:8080/"
        },
        "id": "X9YEobJH7ljd",
        "outputId": "c818cc1e-7002-41f7-885a-f6bb1491875a"
      },
      "execution_count": 8,
      "outputs": [
        {
          "output_type": "stream",
          "name": "stdout",
          "text": [
            "Missing values before imputation:\n",
            " Region               8\n",
            "Fresh               13\n",
            "Milk                15\n",
            "Grocery              9\n",
            "Frozen               8\n",
            "Detergents_Paper    10\n",
            "Delicassen          11\n",
            "dtype: int64\n"
          ]
        }
      ]
    },
    {
      "cell_type": "code",
      "source": [
        "imputer = KNNImputer(n_neighbors=5)\n",
        "df_imputed = pd.DataFrame(imputer.fit_transform(df_impute), columns=df_impute.columns)\n",
        "\n",
        "print(\"\\nMissing values after imputation:\\n\", df_imputed.isnull().sum())"
      ],
      "metadata": {
        "colab": {
          "base_uri": "https://localhost:8080/"
        },
        "id": "A42CEKV48g92",
        "outputId": "bdaeeb45-01df-44b9-c67a-4b1b92b1ae2d"
      },
      "execution_count": 12,
      "outputs": [
        {
          "output_type": "stream",
          "name": "stdout",
          "text": [
            "\n",
            "Missing values after imputation:\n",
            " Unnamed: 0          0\n",
            "Region              0\n",
            "Fresh               0\n",
            "Milk                0\n",
            "Grocery             0\n",
            "Frozen              0\n",
            "Detergents_Paper    0\n",
            "Delicassen          0\n",
            "dtype: int64\n"
          ]
        }
      ]
    },
    {
      "cell_type": "code",
      "source": [
        "df_imputed['Region'] = df_imputed['Region'].round().astype(int)\n"
      ],
      "metadata": {
        "id": "N8W1kr2A8l2V"
      },
      "execution_count": 15,
      "outputs": []
    },
    {
      "cell_type": "code",
      "source": [
        "X = df_imputed.drop(columns=['Region'])\n",
        "y = df_imputed['Region']"
      ],
      "metadata": {
        "id": "L2hIkiFY9QiR"
      },
      "execution_count": 16,
      "outputs": []
    },
    {
      "cell_type": "code",
      "source": [
        "scaler = StandardScaler()\n",
        "X_scaled = scaler.fit_transform(X)"
      ],
      "metadata": {
        "id": "6gD-340q9WrO"
      },
      "execution_count": 19,
      "outputs": []
    },
    {
      "cell_type": "code",
      "source": [
        "X_train, X_test, y_train, y_test = train_test_split(X_scaled, y, test_size=0.2, random_state=42, stratify=y)"
      ],
      "metadata": {
        "id": "3UWFEjOy9m7N"
      },
      "execution_count": 20,
      "outputs": []
    },
    {
      "cell_type": "code",
      "source": [
        "knn = KNeighborsClassifier(n_neighbors=8)\n",
        "knn.fit(X_train, y_train)\n",
        "y_pred = knn.predict(X_test)\n",
        "\n",
        "accuracy = accuracy_score(y_test, y_pred)\n",
        "\n",
        "print(\"\\nKNN Classifier Accuracy after KNN Imputation:\", accuracy)"
      ],
      "metadata": {
        "colab": {
          "base_uri": "https://localhost:8080/"
        },
        "id": "fMi6CGBi9xcI",
        "outputId": "83db17c8-b46f-46ff-8c60-46558ac5055a"
      },
      "execution_count": 23,
      "outputs": [
        {
          "output_type": "stream",
          "name": "stdout",
          "text": [
            "\n",
            "KNN Classifier Accuracy after KNN Imputation: 0.8888888888888888\n"
          ]
        }
      ]
    }
  ]
}